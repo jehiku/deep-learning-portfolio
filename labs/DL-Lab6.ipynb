{
 "cells": [
  {
   "cell_type": "markdown",
   "id": "d259748a-5993-488c-89f7-d932644a4f5f",
   "metadata": {},
   "source": [
    "# **Laboratory Task 6**"
   ]
  },
  {
   "cell_type": "markdown",
   "id": "804b45ed",
   "metadata": {},
   "source": [
    "---"
   ]
  },
  {
   "cell_type": "markdown",
   "id": "16364962-6454-4e2e-a4da-6279d37c821b",
   "metadata": {},
   "source": [
    "## **DS413 | Deep Learning**\n",
    "### **Training CNN Model using MNIST Dataset**"
   ]
  },
  {
   "cell_type": "markdown",
   "id": "aa6268f6-1957-4cb7-8933-b7c1b75385e2",
   "metadata": {},
   "source": [
    "<div style=\"text-align: justify;\">\n",
    "This task is about converting a visualized Convolutional Neural Network (CNN) architecture diagram into executable code using the PyTorch deep learning framework.\n",
    "    \n",
    "<br>\n",
    "    \n",
    "The activity requires you to translate the specifications (layers, kernel sizes, strides, padding, number of filters, and output dimensions) shown in the diagram into a PyTorch nn.Module class definition.\n",
    "    \n",
    "<br>\n",
    "    \n",
    "</div>"
   ]
  },
  {
   "cell_type": "markdown",
   "id": "2bb845a3-e4bc-4a49-8934-46b102dea1f6",
   "metadata": {},
   "source": [
    "<div style=\"width: 80%; margin: 0 auto;\">\n",
    "    <div style=\"border: 6px solid #4F6D38; padding: 15px; background-color: transparent; border-radius: 5px; text-align: left;\">\n",
    "    <h3><strong>Laboratory Task 6</strong></h3>\n",
    "        <br>\n",
    "    <a href=\"https://ibb.co/KjyKgDVH\"><img src=\"https://i.ibb.co/3yhRbvSH/image.png\" alt=\"image\" border=\"0\"></a>                    \n",
    "    </div>\n",
    "</div>"
   ]
  },
  {
   "cell_type": "code",
   "execution_count": 1,
   "id": "07a11c0a-c063-4a67-951a-d88eb54c0b36",
   "metadata": {},
   "outputs": [],
   "source": [
    "# Libraries\n",
    "\n",
    "import torch\n",
    "import torch.nn as nn\n",
    "import torch.nn.functional as F"
   ]
  },
  {
   "cell_type": "code",
   "execution_count": 2,
   "id": "90a600f5",
   "metadata": {},
   "outputs": [],
   "source": [
    "class CNNModel(nn.Module):\n",
    "    def __init__(self):\n",
    "        super(CNNModel, self).__init__()\n",
    "\n",
    "        # Convolutional Layers\n",
    "        self.conv1 = nn.Conv2d(in_channels=1, out_channels=32, kernel_size=3, stride=1, padding=1)\n",
    "        self.pool1 = nn.MaxPool2d(kernel_size=2, stride=2, padding=1)\n",
    "\n",
    "        self.conv2 = nn.Conv2d(in_channels=32, out_channels=64, kernel_size=3, stride=1, padding=1)\n",
    "        self.conv3 = nn.Conv2d(in_channels=64, out_channels=128, kernel_size=3, stride=1, padding=1)\n",
    "        self.conv4 = nn.Conv2d(in_channels=128, out_channels=256, kernel_size=3, stride=1, padding=1)\n",
    "        self.pool2 = nn.MaxPool2d(kernel_size=2, stride=2, padding=0)\n",
    "\n",
    "        # Dropout\n",
    "        self.dropout = nn.Dropout(p=0.2)\n",
    "\n",
    "        # Fully Connected Layers\n",
    "        # Need to compute input features to FC1 after flattening\n",
    "        self.fc1 = nn.Linear(256 * 7 * 7, 1000)  # 28x28 should shrink to 7x7 after pooling\n",
    "        self.fc2 = nn.Linear(1000, 500)\n",
    "        self.fc3 = nn.Linear(500, 10)  # 10 classes\n",
    "\n",
    "    def forward(self, x):\n",
    "        # Conv + ReLU + Pooling\n",
    "        x = F.relu(self.conv1(x))\n",
    "        x = self.pool1(x)\n",
    "\n",
    "        x = F.relu(self.conv2(x))\n",
    "        x = F.relu(self.conv3(x))\n",
    "        x = F.relu(self.conv4(x))\n",
    "        x = self.pool2(x)\n",
    "\n",
    "        # Dropout\n",
    "        x = self.dropout(x)\n",
    "\n",
    "        # Flatten\n",
    "        x = x.view(x.size(0), -1)\n",
    "\n",
    "        # Fully connected + ReLU\n",
    "        x = F.relu(self.fc1(x))\n",
    "        x = F.relu(self.fc2(x))\n",
    "        x = self.fc3(x)\n",
    "\n",
    "        # Softmax - applied in loss function dapat\n",
    "        return x"
   ]
  },
  {
   "cell_type": "code",
   "execution_count": 3,
   "id": "b7348d4a",
   "metadata": {},
   "outputs": [
    {
     "name": "stdout",
     "output_type": "stream",
     "text": [
      "torch.Size([1, 10])\n"
     ]
    }
   ],
   "source": [
    "model = CNNModel()\n",
    "x = torch.randn(1, 1, 28, 28)  # batch of 1, grayscale 28x28\n",
    "print(model(x).shape)  # expected: [1, 10]"
   ]
  },
  {
   "cell_type": "markdown",
   "id": "e2498358",
   "metadata": {},
   "source": [
    "### **Implementing a CNN within a comprehensive PyTorch training workflow.**"
   ]
  },
  {
   "cell_type": "code",
   "execution_count": 4,
   "id": "7f31ebe6",
   "metadata": {},
   "outputs": [],
   "source": [
    "# Libraries\n",
    "\n",
    "import torch.optim as optim\n",
    "from torch.utils.data import DataLoader, random_split\n",
    "from torchvision import datasets, transforms\n",
    "import matplotlib.pyplot as plt\n",
    "import numpy as np\n",
    "import random"
   ]
  },
  {
   "cell_type": "code",
   "execution_count": 5,
   "id": "b98f5ea4",
   "metadata": {},
   "outputs": [],
   "source": [
    "# Set seed\n",
    "\n",
    "def set_seed(seed=143):\n",
    "    torch.manual_seed(seed)\n",
    "    np.random.seed(seed)\n",
    "    random.seed(seed)\n",
    "\n",
    "set_seed(143)"
   ]
  },
  {
   "cell_type": "code",
   "execution_count": 7,
   "id": "421b4461",
   "metadata": {},
   "outputs": [],
   "source": [
    "# Load MNIST dataset\n",
    "\n",
    "transform = transforms.ToTensor()\n",
    "\n",
    "train_data = datasets.MNIST(root=\"data\", train=True, download=True, transform=transform)\n",
    "test_data  = datasets.MNIST(root=\"data\", train=False, download=True, transform=transform)\n",
    "\n",
    "train_set, val_set = random_split(train_data, [50000, 10000])\n",
    "\n",
    "# Data loaders:\n",
    "batch_size = 64\n",
    "train_loader = DataLoader(train_set, batch_size=batch_size, shuffle=True)\n",
    "val_loader   = DataLoader(val_set, batch_size=batch_size, shuffle=False)\n",
    "test_loader  = DataLoader(test_data, batch_size=batch_size, shuffle=False)"
   ]
  },
  {
   "cell_type": "code",
   "execution_count": 8,
   "id": "a6b194bc",
   "metadata": {},
   "outputs": [],
   "source": [
    "# Define CNN Model\n",
    "\n",
    "class CNNModel(nn.Module):\n",
    "    def __init__(self):\n",
    "        super(CNNModel, self).__init__()\n",
    "\n",
    "        self.conv1 = nn.Conv2d(1, 32, kernel_size=3, stride=1, padding=1)\n",
    "        self.pool1 = nn.MaxPool2d(2, 2, padding=1)\n",
    "\n",
    "        self.conv2 = nn.Conv2d(32, 64, kernel_size=3, stride=1, padding=1)\n",
    "        self.conv3 = nn.Conv2d(64, 128, kernel_size=3, stride=1, padding=1)\n",
    "        self.conv4 = nn.Conv2d(128, 256, kernel_size=3, stride=1, padding=1)\n",
    "        self.pool2 = nn.MaxPool2d(2, 2)\n",
    "\n",
    "        self.dropout = nn.Dropout(0.2)\n",
    "\n",
    "        self.fc1 = nn.Linear(256 * 7 * 7, 1000)\n",
    "        self.fc2 = nn.Linear(1000, 500)\n",
    "        self.fc3 = nn.Linear(500, 10)\n",
    "\n",
    "    def forward(self, x):\n",
    "        x = F.relu(self.conv1(x))\n",
    "        x = self.pool1(x)\n",
    "\n",
    "        x = F.relu(self.conv2(x))\n",
    "        x = F.relu(self.conv3(x))\n",
    "        x = F.relu(self.conv4(x))\n",
    "        x = self.pool2(x)\n",
    "\n",
    "        x = self.dropout(x)\n",
    "        x = x.view(x.size(0), -1)  # flatten\n",
    "\n",
    "        x = F.relu(self.fc1(x))\n",
    "        x = F.relu(self.fc2(x))\n",
    "        x = self.fc3(x)\n",
    "\n",
    "        return x"
   ]
  },
  {
   "cell_type": "code",
   "execution_count": 9,
   "id": "a6db0f6e",
   "metadata": {},
   "outputs": [],
   "source": [
    "# Training\n",
    "\n",
    "device = torch.device(\"cuda\" if torch.cuda.is_available() else \"cpu\")\n",
    "model = CNNModel().to(device)\n",
    "\n",
    "criterion = nn.CrossEntropyLoss()  # loss for classification\n",
    "optimizer = optim.Adam(model.parameters(), lr=0.001)"
   ]
  },
  {
   "cell_type": "code",
   "execution_count": 10,
   "id": "dcf38882",
   "metadata": {},
   "outputs": [],
   "source": [
    "# Training Loop\n",
    "\n",
    "def train_model(model, train_loader, val_loader, criterion, optimizer, epochs=5):\n",
    "    train_losses, val_losses, val_accs = [], [], []\n",
    "\n",
    "    for epoch in range(epochs):\n",
    "        # ---- Training ----\n",
    "        model.train()\n",
    "        running_loss = 0\n",
    "        for images, labels in train_loader:\n",
    "            images, labels = images.to(device), labels.to(device)\n",
    "\n",
    "            optimizer.zero_grad()\n",
    "            outputs = model(images)\n",
    "            loss = criterion(outputs, labels)\n",
    "            loss.backward()\n",
    "            optimizer.step()\n",
    "\n",
    "            running_loss += loss.item()\n",
    "\n",
    "        avg_train_loss = running_loss / len(train_loader)\n",
    "\n",
    "        # ---- Validation ----\n",
    "        model.eval()\n",
    "        val_loss, correct = 0, 0\n",
    "        with torch.no_grad():\n",
    "            for images, labels in val_loader:\n",
    "                images, labels = images.to(device), labels.to(device)\n",
    "                outputs = model(images)\n",
    "                loss = criterion(outputs, labels)\n",
    "                val_loss += loss.item()\n",
    "\n",
    "                preds = torch.argmax(outputs, dim=1)\n",
    "                correct += (preds == labels).sum().item()\n",
    "\n",
    "        avg_val_loss = val_loss / len(val_loader)\n",
    "        accuracy = correct / len(val_loader.dataset)\n",
    "\n",
    "        train_losses.append(avg_train_loss)\n",
    "        val_losses.append(avg_val_loss)\n",
    "        val_accs.append(accuracy)\n",
    "\n",
    "        print(f\"Epoch [{epoch+1}/{epochs}] \"\n",
    "              f\"Training Loss: {avg_train_loss:.4f} \"\n",
    "              f\"Validation Loss: {avg_val_loss:.4f} \"\n",
    "              f\"Validation Accuracy: {accuracy:.4f}\")\n",
    "\n",
    "    return train_losses, val_losses, val_accs"
   ]
  },
  {
   "cell_type": "code",
   "execution_count": 11,
   "id": "f748fb1f",
   "metadata": {},
   "outputs": [
    {
     "name": "stdout",
     "output_type": "stream",
     "text": [
      "Epoch [1/5] Training Loss: 0.1529 Validation Loss: 0.0539 Validation Accuracy: 0.9843\n",
      "Epoch [2/5] Training Loss: 0.0551 Validation Loss: 0.0405 Validation Accuracy: 0.9880\n",
      "Epoch [3/5] Training Loss: 0.0360 Validation Loss: 0.0463 Validation Accuracy: 0.9886\n",
      "Epoch [4/5] Training Loss: 0.0277 Validation Loss: 0.0402 Validation Accuracy: 0.9902\n",
      "Epoch [5/5] Training Loss: 0.0245 Validation Loss: 0.0363 Validation Accuracy: 0.9911\n"
     ]
    }
   ],
   "source": [
    "# Training Loop (Execute)\n",
    "\n",
    "train_losses, val_losses, val_accs = train_model(model, train_loader, val_loader, criterion, optimizer, epochs=5)"
   ]
  },
  {
   "cell_type": "markdown",
   "id": "18478336",
   "metadata": {},
   "source": [
    "<a href=\"https://ibb.co/FkXpsDyV\"><img src=\"https://i.ibb.co/nqBp3LYC/iqayyy.png\" alt=\"iqayyy\" border=\"0\"></a>"
   ]
  },
  {
   "cell_type": "markdown",
   "id": "8017ffe1",
   "metadata": {},
   "source": [
    "<div style=\"text-align: justify;\">\n",
    "The model trained on the MNIST dataset showed steady improvement across the five epochs. Training loss dropped from 0.1529 to 0.0245, while validation loss stayed consistently low, ending at 0.0363. Validation accuracy started high at 98.4% and gradually climbed to 99.1%, showing that the model was learning effectively without clear signs of overfitting. Although there was a small bump in validation loss around the third epoch, the overall trend remained stable. These results suggest that the network was able to generalize well to unseen data, and with more training or fine-tuning, performance could likely improve even further.\n",
    "</div>"
   ]
  },
  {
   "cell_type": "code",
   "execution_count": 12,
   "id": "dd7bd14a",
   "metadata": {},
   "outputs": [
    {
     "data": {
      "image/png": "[encoded data removed]",
      "text/plain": [
       "<Figure size 1200x400 with 2 Axes>"
      ]
     },
     "metadata": {},
     "output_type": "display_data"
    }
   ],
   "source": [
    "plt.figure(figsize=(12,4))\n",
    "\n",
    "# Loss plot\n",
    "plt.subplot(1,2,1)\n",
    "plt.plot(train_losses, label=\"Train Loss\")\n",
    "plt.plot(val_losses, label=\"Val Loss\")\n",
    "plt.legend()\n",
    "plt.title(\"Loss per Epoch\")\n",
    "\n",
    "# Accuracy plot\n",
    "plt.subplot(1,2,2)\n",
    "plt.plot(val_accs, label=\"Val Accuracy\")\n",
    "plt.legend()\n",
    "plt.title(\"Validation Accuracy per Epoch\")\n",
    "\n",
    "plt.show()"
   ]
  },
  {
   "cell_type": "markdown",
   "id": "6add7b09",
   "metadata": {},
   "source": [
    "### **Loss per Epoch**\n",
    "\n",
    "<div style=\"text-align: justify;\">\n",
    "The training loss decreases steadily from the first to the last epoch, showing that the model is effectively learning the patterns in the training data. The validation loss is consistently lower than the training loss and remains fairly stable, with only small fluctuations. This suggests that the model is not overfitting; instead, it is generalizing well to unseen data. The convergence of both losses at low values indicates efficient optimization.\n",
    "</div>\n",
    "\n",
    "### **Validation Accuracy per Epoch**\n",
    "\n",
    "<div style=\"text-align: justify;\">\n",
    "The validation accuracy improves consistently with each epoch, starting below 0.985 and reaching over 0.991 by the end of training. The upward trend without major dips suggests that the model continues to refine its classification performance on unseen validation data throughout the training process. The final accuracy of about 99.1% is a strong indicator of reliable performance on the MNIST dataset.\n",
    "</div>\n",
    "\n",
    "### **Overall Inference**\n",
    "\n",
    "<div style=\"text-align: justify;\">\n",
    "The combination of steadily decreasing loss and steadily increasing accuracy indicates that the model is learning efficiently without major signs of underfitting or overfitting. The low validation loss alongside the high accuracy highlights that the model is both precise and consistent in predicting handwritten digits, demonstrating strong generalization.\n",
    "</div>"
   ]
  },
  {
   "cell_type": "code",
   "execution_count": 13,
   "id": "e8ecb085",
   "metadata": {},
   "outputs": [
    {
     "name": "stdout",
     "output_type": "stream",
     "text": [
      "Test Accuracy: 0.9913\n"
     ]
    }
   ],
   "source": [
    "# Test Model Accuracy\n",
    "\n",
    "model.eval()\n",
    "correct = 0\n",
    "with torch.no_grad():\n",
    "    for images, labels in test_loader:\n",
    "        images, labels = images.to(device), labels.to(device)\n",
    "        outputs = model(images)\n",
    "        preds = torch.argmax(outputs, dim=1)\n",
    "        correct += (preds == labels).sum().item()\n",
    "\n",
    "test_acc = correct / len(test_loader.dataset)\n",
    "print(f\"Test Accuracy: {test_acc:.4f}\")"
   ]
  },
  {
   "cell_type": "markdown",
   "id": "f7b0b30f",
   "metadata": {},
   "source": [
    "### **Test Accuracy**\n",
    "\n",
    "<div style=\"text-align: justify;\">\n",
    "After evaluating the trained model on the separate test dataset, it achieved an accuracy of 0.9909 (99.09%). This result aligns closely with the validation accuracy observed during training, confirming that the model maintains its strong performance when exposed to entirely unseen data. The consistency across training, validation, and testing metrics suggests that the model has achieved a balanced fit, with no major signs of overfitting or underfitting.\n",
    "</div>\n",
    "\n",
    "### **Overall Picture**\n",
    "\n",
    "<div style=\"text-align: justify;\">\n",
    "With training and validation losses decreasing smoothly, validation accuracy steadily improving, and the test accuracy reaching 99.09%, the evidence points to a robust and reliable model for handwritten digit recognition. Each piece—loss curves, validation accuracy, and test accuracy—fits together to show that the model not only learned effectively but also generalizes well to new inputs.\n",
    "</div>\n"
   ]
  },
  {
   "cell_type": "markdown",
   "id": "f437514b",
   "metadata": {},
   "source": [
    "---\n",
    "## **Takeaway**\n",
    "\n",
    "\n",
    "<div style=\"text-align: justify;\">\n",
    "<br>\n",
    "From this activity, we saw how even a simple neural network can hit really high accuracy on the MNIST dataset. The training and validation losses both dropped nicely over the epochs, while the validation accuracy steadily climbed, which tells us the model was learning effectively without running into serious overfitting. By the end, the test accuracy of 99.09% showed that the model isn’t just memorizing the training data, but can actually generalize really well.\n",
    "\n",
    "The main lesson here is that tracking metrics like loss and accuracy is more than just checking numbers—it gives us a clear picture of how the model is improving and whether it’s heading in the right direction. In this case, the model was already doing great after just five epochs, which also reminds us that more training doesn’t always mean better results.\n",
    "\n",
    "In short, this task showed us both the power of neural networks for image classification and the importance of reading the training curves to understand what’s really going on under the hood.\n",
    "</div>"
   ]
  },
  {
   "cell_type": "markdown",
   "id": "21cc9d3f",
   "metadata": {},
   "source": [
    "### **Visualizing Model Prediction**"
   ]
  },
  {
   "cell_type": "code",
   "execution_count": 14,
   "id": "489aff56",
   "metadata": {},
   "outputs": [],
   "source": [
    "# Credits to: Chris Jallaine Mugot for this code.\n",
    "\n",
    "def show_predictions(model, loader, n=10):\n",
    "    model.eval()\n",
    "    images, labels = next(iter(loader))  # take one batch\n",
    "    images, labels = images.to(device), labels.to(device)\n",
    "\n",
    "    with torch.no_grad():\n",
    "        outputs = model(images)\n",
    "        preds = torch.argmax(outputs, dim=1)\n",
    "\n",
    "    # Move to CPU for plotting\n",
    "    images = images.cpu()\n",
    "    preds = preds.cpu()\n",
    "    labels = labels.cpu()\n",
    "\n",
    "    fig, axs = plt.subplots(1, n, figsize=(15, 2))\n",
    "    for i in range(n):\n",
    "        axs[i].imshow(images[i][0], cmap=\"gray\")\n",
    "        axs[i].axis(\"off\")\n",
    "        axs[i].set_title(f\"P:{preds[i].item()}\\nT:{labels[i].item()}\",\n",
    "                         color=(\"green\" if preds[i]==labels[i] else \"red\"))\n",
    "    plt.show()"
   ]
  },
  {
   "cell_type": "code",
   "execution_count": 15,
   "id": "b2245136",
   "metadata": {},
   "outputs": [
    {
     "data": {
      "image/png": "[encoded data removed]",
      "text/plain": [
       "<Figure size 1500x200 with 10 Axes>"
      ]
     },
     "metadata": {},
     "output_type": "display_data"
    }
   ],
   "source": [
    "show_predictions(model, test_loader, n=10)"
   ]
  }
 ],
 "metadata": {
  "kernelspec": {
   "display_name": "Deep Learning Environment",
   "language": "python",
   "name": "deeplearning_env"
  },
  "language_info": {
   "codemirror_mode": {
    "name": "ipython",
    "version": 3
   },
   "file_extension": ".py",
   "mimetype": "text/x-python",
   "name": "python",
   "nbconvert_exporter": "python",
   "pygments_lexer": "ipython3",
   "version": "3.10.18"
  }
 },
 "nbformat": 4,
 "nbformat_minor": 5
}
