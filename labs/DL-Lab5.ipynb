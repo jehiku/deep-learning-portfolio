{
 "cells": [
  {
   "cell_type": "markdown",
   "id": "d259748a-5993-488c-89f7-d932644a4f5f",
   "metadata": {},
   "source": [
    "# **Laboratory Task 5**\n",
    "---"
   ]
  },
  {
   "cell_type": "markdown",
   "id": "16364962-6454-4e2e-a4da-6279d37c821b",
   "metadata": {},
   "source": [
    "## **DS413 | Deep Learning**\n",
    "### **PyTorch Exercise**"
   ]
  },
  {
   "cell_type": "markdown",
   "id": "aa6268f6-1957-4cb7-8933-b7c1b75385e2",
   "metadata": {},
   "source": [
    "<div style=\"text-align: justify;\">\n",
    "This task is designed to develop familiarity with random number generation, tensor manipulation, and basic linear algebra operations in PyTorch while ensuring reproducibility through seed setting. The task guides the learner through creating arrays and tensors, adjusting data types, reshaping, slicing, applying mathematical operations without altering the original data, and finally performing a valid matrix multiplication. The overall objective is to strengthen understanding of how NumPy and PyTorch integrate in managing data structures, controlling randomness, and carrying out fundamental tensor computations.\n",
    "    <br>\n",
    "    \n",
    "</div>"
   ]
  },
  {
   "cell_type": "markdown",
   "id": "2bb845a3-e4bc-4a49-8934-46b102dea1f6",
   "metadata": {},
   "source": [
    "<div style=\"width: 80%; margin: 0 auto;\">\n",
    "    <div style=\"border: 6px solid #4F6D38; padding: 15px; background-color: transparent; border-radius: 5px; text-align: left;\">\n",
    "    <h3><strong>Laboratory Task 5</strong></h3>\n",
    "        \n",
    "<strong>1. Perform Standard Imports</strong>    \n",
    "\n",
    "\n",
    "<strong>2. Create a function called set_seed() that accepts seed: int as a parameter, this function must return nothing but just set the seed to a certain value.</strong>\n",
    "\n",
    "\n",
    "<strong>3. Create a NumPy array called \"arr\" that contains 6 random integers between 0 (inclusive) and 5 (exclusive), call the set_seed() function and use 42 as the seed parameter.</strong>\n",
    "\n",
    "\n",
    "<strong>4. Create a tensor \"x\" from the array above</strong>\n",
    "\n",
    "\n",
    "<strong>5. Change the dtype of x from int32 to int64</strong>\n",
    "\n",
    "\n",
    "<strong>6. Reshape x into a 3x2 tensor</strong>\n",
    "There are several ways to do this.\n",
    "\n",
    "\n",
    "<strong>7. Return the right-hand column of tensor x</strong>\n",
    "\n",
    "<strong>8. Without changing x, return a tensor of square values of x</strong>\n",
    "There are several ways to do this.\n",
    "\n",
    "<strong>9. Create a tensor y with the same number of elements as x, that can be matrix-multiplied with x</strong>\n",
    "Use PyTorch directly (not NumPy) to create a tensor of random integers between 0 (inclusive) and 5 (exclusive). Use 42 as seed.\n",
    "Think about what shape it should have to permit matrix multiplication.\n",
    "\n",
    "<strong>10. Find the matrix product of x and y.  </strong>10. Find the matrix product of x and y.\n",
    "        \n",
    "   </div>\n",
    "</div>"
   ]
  },
  {
   "cell_type": "markdown",
   "id": "41a831d1",
   "metadata": {},
   "source": [
    "#### 1. Perform Standard Imports"
   ]
  },
  {
   "cell_type": "code",
   "execution_count": 1,
   "id": "07a11c0a-c063-4a67-951a-d88eb54c0b36",
   "metadata": {},
   "outputs": [],
   "source": [
    "import numpy as np\n",
    "import torch\n",
    "import sys"
   ]
  },
  {
   "cell_type": "markdown",
   "id": "492acc3a",
   "metadata": {},
   "source": [
    "#### 2. Create a function called set_seed() that accepts seed: int as a parameter, this function must return nothing but just set the seed to a certain value."
   ]
  },
  {
   "cell_type": "code",
   "execution_count": 2,
   "id": "90a600f5",
   "metadata": {},
   "outputs": [],
   "source": [
    "def set_seed(seed: int):\n",
    "    np.random.seed(seed)\n",
    "    torch.manual_seed(seed)"
   ]
  },
  {
   "cell_type": "markdown",
   "id": "46e3bbfb",
   "metadata": {},
   "source": [
    "#### 3. Create a NumPy array called \"arr\" that contains 6 random integers between 0 (inclusive) and 5 (exclusive), call the set_seed() function and use 42 as the seed parameter.\n"
   ]
  },
  {
   "cell_type": "code",
   "execution_count": 3,
   "id": "c48e44f9",
   "metadata": {},
   "outputs": [
    {
     "name": "stdout",
     "output_type": "stream",
     "text": [
      "[3 4 2 4 4 1]\n"
     ]
    }
   ],
   "source": [
    "set_seed(42)\n",
    "\n",
    "arr = np.random.randint(0, 5, size = 6)\n",
    "print(arr)"
   ]
  },
  {
   "cell_type": "markdown",
   "id": "a0b1ce7f",
   "metadata": {},
   "source": [
    "#### 4. Create a tensor \"x\" from the array above"
   ]
  },
  {
   "cell_type": "code",
   "execution_count": 4,
   "id": "54478fd0",
   "metadata": {},
   "outputs": [],
   "source": [
    "x = torch.tensor(arr)"
   ]
  },
  {
   "cell_type": "code",
   "execution_count": 5,
   "id": "85f4fe68",
   "metadata": {},
   "outputs": [
    {
     "name": "stdout",
     "output_type": "stream",
     "text": [
      "tensor([3, 4, 2, 4, 4, 1], dtype=torch.int32)\n"
     ]
    }
   ],
   "source": [
    "print(x)"
   ]
  },
  {
   "cell_type": "markdown",
   "id": "03906371",
   "metadata": {},
   "source": [
    "#### 5. Change the dtype of x from int32 to int64"
   ]
  },
  {
   "cell_type": "code",
   "execution_count": 7,
   "id": "9b26ee68",
   "metadata": {},
   "outputs": [
    {
     "name": "stdout",
     "output_type": "stream",
     "text": [
      "torch.int64\n"
     ]
    }
   ],
   "source": [
    "x = x.to(torch.int64)\n",
    "\n",
    "print(x.dtype)"
   ]
  },
  {
   "cell_type": "markdown",
   "id": "59b4c252",
   "metadata": {},
   "source": [
    "#### 6. Reshape x into a 3x2 tensor"
   ]
  },
  {
   "cell_type": "code",
   "execution_count": 8,
   "id": "c788ce8c",
   "metadata": {},
   "outputs": [
    {
     "data": {
      "text/plain": [
       "tensor([[3, 4],\n",
       "        [2, 4],\n",
       "        [4, 1]])"
      ]
     },
     "execution_count": 8,
     "metadata": {},
     "output_type": "execute_result"
    }
   ],
   "source": [
    "x = x.view(3, 2)\n",
    "x"
   ]
  },
  {
   "cell_type": "markdown",
   "id": "57a9c9d4",
   "metadata": {},
   "source": [
    "#### 7. Return the right-hand column of tensor x"
   ]
  },
  {
   "cell_type": "code",
   "execution_count": 9,
   "id": "3e46c429",
   "metadata": {},
   "outputs": [
    {
     "name": "stdout",
     "output_type": "stream",
     "text": [
      "tensor([4, 4, 1])\n"
     ]
    }
   ],
   "source": [
    "right = x[:, 1]\n",
    "print(right)"
   ]
  },
  {
   "cell_type": "markdown",
   "id": "8c133fa9",
   "metadata": {},
   "source": [
    "#### 8. Without changing x, return a tensor of square values of x"
   ]
  },
  {
   "cell_type": "code",
   "execution_count": 10,
   "id": "d24b790c",
   "metadata": {},
   "outputs": [
    {
     "name": "stdout",
     "output_type": "stream",
     "text": [
      "tensor([[ 9, 16],\n",
      "        [ 4, 16],\n",
      "        [16,  1]])\n"
     ]
    }
   ],
   "source": [
    "squared = x**2\n",
    "print(squared)"
   ]
  },
  {
   "cell_type": "markdown",
   "id": "eb204fa1",
   "metadata": {},
   "source": [
    "#### 9. Create a tensor y with the same number of elements as x, that can be matrix-multiplied with x"
   ]
  },
  {
   "cell_type": "code",
   "execution_count": 11,
   "id": "20ca31a3",
   "metadata": {},
   "outputs": [
    {
     "name": "stdout",
     "output_type": "stream",
     "text": [
      "tensor([[2, 2, 1],\n",
      "        [4, 1, 0]])\n"
     ]
    }
   ],
   "source": [
    "set_seed(42)\n",
    "y = torch.randint(0,5, (2, 3))\n",
    "print(y)"
   ]
  },
  {
   "cell_type": "markdown",
   "id": "23430406",
   "metadata": {},
   "source": [
    "#### 10. Find the matrix product of x and y."
   ]
  },
  {
   "cell_type": "code",
   "execution_count": 12,
   "id": "af6bb76b",
   "metadata": {},
   "outputs": [
    {
     "name": "stdout",
     "output_type": "stream",
     "text": [
      "tensor([[22, 10,  3],\n",
      "        [20,  8,  2],\n",
      "        [12,  9,  4]])\n"
     ]
    }
   ],
   "source": [
    "prod = torch.matmul(x,y)\n",
    "print(prod)"
   ]
  }
 ],
 "metadata": {
  "kernelspec": {
   "display_name": "Deep Learning Environment",
   "language": "python",
   "name": "deeplearning_env"
  },
  "language_info": {
   "codemirror_mode": {
    "name": "ipython",
    "version": 3
   },
   "file_extension": ".py",
   "mimetype": "text/x-python",
   "name": "python",
   "nbconvert_exporter": "python",
   "pygments_lexer": "ipython3",
   "version": "3.10.18"
  }
 },
 "nbformat": 4,
 "nbformat_minor": 5
}
