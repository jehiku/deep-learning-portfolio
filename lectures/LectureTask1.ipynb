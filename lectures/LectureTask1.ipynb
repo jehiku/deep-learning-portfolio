{
 "cells": [
  {
   "cell_type": "markdown",
   "id": "d259748a-5993-488c-89f7-d932644a4f5f",
   "metadata": {},
   "source": [
    "# **Lecture Task 1**\n",
    "---"
   ]
  },
  {
   "cell_type": "markdown",
   "id": "16364962-6454-4e2e-a4da-6279d37c821b",
   "metadata": {},
   "source": [
    "## **DS413 | Deep Learning**\n",
    "### **Foundations of Deep Learning**"
   ]
  },
  {
   "cell_type": "markdown",
   "id": "2bb845a3-e4bc-4a49-8934-46b102dea1f6",
   "metadata": {},
   "source": [
    "<div style=\"border:6px solid #4F6D38; padding:15px; background-color: transparent; border-radius:5px;\">\n",
    "    <strong>Instruction:</strong> Create a reaction paper (1 page) about the YouTube video titled <strong>\"Machine Learning: Living in the Age of AI | A WIRED Film\"</strong>, submit this in PDF format.\n",
    "    <br><br>\n",
    "    Use these as guide question for your paper.\n",
    "    <ul>\n",
    "        <li>What are some of the most significant advancements in AI that the video highlights as having a positive impact on society?</li>\n",
    "        <li>How does the video envision the future of AI, and what challenges and opportunities lie ahead?</li>\n",
    "        <li>How can we strike a balance between harnessing the benefits of AI and addressing its potential drawbacks?</li>\n",
    "    </ul>\n",
    "</div>"
   ]
  },
  {
   "cell_type": "markdown",
   "id": "7e4177fc-46dc-499f-b689-55e1dc00a73b",
   "metadata": {},
   "source": [
    "<center>\n",
    "    \n",
    "## <strong>Machine Learning: Living in the Age of AI</strong>\n",
    "\n",
    "</center>"
   ]
  },
  {
   "cell_type": "markdown",
   "id": "4a90c05f-c671-40dd-8bdb-280065231e3f",
   "metadata": {},
   "source": [
    "<div style=\"text-align: justify;\">\n",
    "\n",
    "Watching the documentary is like watching these people remind me how much I am missing out as someone studying in the field of technology. It is thrilling, almost dizzying, to see AI evolve so rapidly, with solutions popping up in every corner of society. On one hand, it is exhilarating to witness what is possible; on the other, it is a little scary to think that some people might not absorb these changes fast enough. It is fast, relentless, and sometimes overwhelming. Not to mention, some of it is undeniably trivial or even potentially harmful.\n",
    "\n",
    "In this documentary’s case, the objectively significant impacts I noticed are self-driving cars, medical diagnostics with AI, and agricultural AI. They are undeniably impressive, yet it is hard not to feel a bit cautious about the changes they bring. One of the clearest positives is how AI is making jobs easier. By automating repetitive tasks and assisting with complex decisions, AI lightens workloads and allows people to concentrate on meaningful, creative work. At the same time, there is an understandable fear of job displacement. Many worry that too much reliance on AI could eventually replace certain roles entirely. While this concern is valid, it is reassuring to see AI more as a tool than a replacement. It enhances productivity, but the human mind, which is creative, adaptable, and intuitive, remains irreplaceable. AI can lift burdens, but it cannot experience curiosity or the satisfaction of problem-solving.\n",
    "\n",
    "Healthcare is another area that left me genuinely excited. AI helps doctors detect diseases earlier, analyze data faster, and provide more accurate diagnoses, such as identifying skin cancer or improving cancer treatment. That is no debate: faster and more precise results save lives. Yet, there is also a cautionary side. Over-reliance on machines could risk sidelining the empathy, intuition, and ethical judgment that only human doctors possess. Still, it is best to view AI as a partner, not a replacement. The human element remains essential, and AI only magnifies our ability to serve patients better.\n",
    "\n",
    "Transportation and agriculture are two other areas where AI shows enormous potential. Autonomous vehicles could improve road safety and accessibility, but they raise ethical and practical questions, such as accountability in accidents and adapting human behavior. Agricultural AI improves food production and sustainability, yet there are concerns about dependency on technology and the potential displacement of traditional farming knowledge. As with other sectors, balance and careful implementation are essential.\n",
    "\n",
    "AI in creative fields also left a strong impression. From generating music to designing visuals, AI is stepping into art and culture. That is fascinating, yet it also raises concerns. AI can mimic human creativity, but it cannot live the experiences, emotions, and struggles that give art its soul. Over-reliance on AI in creative work could diminish the value of human effort and originality. At the same time, it is inspiring to see humans and machines collaborate. AI should be a tool that amplifies human creativity rather than replacing it.\n",
    "\n",
    "Beyond specific impacts, what struck me most is the speed at which all this is happening. It is a bit scary. The risk is not that AI will replace humans entirely, but that society might become over-reliant, losing sight of the skill, effort, and ethical responsibility that are part of being human. AI should be accessible, yes, but not so casually that it can be misused or diminish the act of learning and creating. Policies and thoughtful governance are key to harnessing AI safely, ensuring it is a partner, not a crutch.\n",
    "\n",
    "Ultimately, the documentary left me feeling both excited and cautious. I am thrilled by AI’s potential to make life easier, safer, and more efficient, from medical breakthroughs to workplace assistance. Yet, I am wary of its capacity to trivialize work, intrude on privacy, or erode the soul of human creativity. If handled responsibly, AI can enhance our abilities and enrich our lives, but the challenge lies in making sure it does not diminish what makes us human. We should embrace AI as a partner, a helper that gives us more time to be thoughtful, creative, and alive in ways that machines cannot replicate.\n",
    "\n",
    "</div>"
   ]
  }
 ],
 "metadata": {
  "kernelspec": {
   "display_name": "Python 3 (ipykernel)",
   "language": "python",
   "name": "python3"
  },
  "language_info": {
   "codemirror_mode": {
    "name": "ipython",
    "version": 3
   },
   "file_extension": ".py",
   "mimetype": "text/x-python",
   "name": "python",
   "nbconvert_exporter": "python",
   "pygments_lexer": "ipython3",
   "version": "3.12.3"
  }
 },
 "nbformat": 4,
 "nbformat_minor": 5
}
