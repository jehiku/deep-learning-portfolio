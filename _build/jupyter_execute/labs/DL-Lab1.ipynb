{
 "cells": [
  {
   "cell_type": "markdown",
   "id": "d259748a-5993-488c-89f7-d932644a4f5f",
   "metadata": {},
   "source": [
    "# **Laboratory Task 1**\n",
    "---"
   ]
  },
  {
   "cell_type": "markdown",
   "id": "16364962-6454-4e2e-a4da-6279d37c821b",
   "metadata": {},
   "source": [
    "## **DS413 | Deep Learning**\n",
    "### **Foundational Concept of Deep Learning**"
   ]
  },
  {
   "cell_type": "markdown",
   "id": "aa6268f6-1957-4cb7-8933-b7c1b75385e2",
   "metadata": {},
   "source": [
    "<div style=\"text-align: justify;\">\n",
    "Understanding the four types of analytics is crucial for mastering artificial intelligence (AI). Descriptive analytics lays the groundwork by summarizing historical data, providing insights into past trends essential for building predictive models in AI. Diagnostic analytics goes deeper, uncovering the reasons behind trends, which is fundamental in training AI algorithms to recognize patterns and anomalies effectively. Predictive analytics plays a pivotal role by forecasting future outcomes based on historical data, a capability vital for AI systems to make informed decisions and projections. Finally, prescriptive analytics not only predicts future scenarios but also prescribes optimal actions to achieve desired outcomes, guiding AI systems in making proactive and strategic decisions. Together, these analytics types form the backbone of AI learning, equipping developers and researchers with the tools to enhance AI capabilities, optimize performance, and drive innovation across various domains.\n",
    "</div>"
   ]
  },
  {
   "cell_type": "markdown",
   "id": "4d99738f-6843-430e-9e63-4b8a52ec59bb",
   "metadata": {},
   "source": [
    "| Type of Analytics | Question/Focus | Key Characteristics |\n",
    "| :--- | :--- | :--- |\n",
    "| **Descriptive** | What's happening in my business? | Comprehensive, accurate and live data; Effective visualisation |\n",
    "| **Diagnostic** | Why is it happening? | Ability to drill down to the root-cause; Ability to isolate all confounding information |\n",
    "| **Predictive** | What's likely to happen? | Business strategies have remained fairly consistent over time; Historical patterns being used to predict specific outcomes using algorithms; Decisions are automated using algorithms and technology |\n",
    "| **Prescriptive** | What do I need to do? | Recommended actions and strategies based on champion / challenger testing strategy outcomes; Applying advanced analytical techniques to make specific recommendations |"
   ]
  },
  {
   "cell_type": "markdown",
   "id": "ad2f7158-1489-4d5a-bcd1-cf7e90e100d1",
   "metadata": {},
   "source": [
    "### **Example Scenario:**\n",
    "\n",
    "**1. Descriptive:** How many infected cases since last week?\n",
    "\n",
    "**2. Diagnostic:** What factor affects the demand of AstroJR's COVID19 vaccine?\n",
    "\n",
    "**3. Predictive:** How many deaths next week?\n",
    "\n",
    "**4. Prescriptive:** If the number of cases will increase next week, how many hospital staff should be here to adequately treat the influx of patients?\n",
    "\n",
    "\n",
    "To address the key questions identified by the analytics team, historical data on deaths will be crucial. By analyzing this time-series data, the team can leverage statistical modeling techniques to uncover patterns and trends that will enable them to generate accurate forecasts. The inclusion of a time variable in the inquiry makes the use of these statistical models essential, as they are specifically designed to handle and extract insights from data with a temporal component. This predictive modeling process will also introduce the team to the potential applications of Artificial Intelligence (AI) in this domain."
   ]
  },
  {
   "cell_type": "markdown",
   "id": "2bb845a3-e4bc-4a49-8934-46b102dea1f6",
   "metadata": {},
   "source": [
    "<div style=\"border: 6px solid #4F6D38; padding: 15px; background-color: transparent; border-radius: 5px;\">\n",
    "    <h3><strong>Laboratory Task 1</strong></h3>\n",
    "    <p><strong>Instruction:</strong> From the example scenario above, create additional two inquiries for each type of data analytics.</p>\n",
    "                                                \n",
    "    <h4><strong>1. Descriptive:</strong></h4>\n",
    "    <ul>\n",
    "        <li>Which communities experienced the longest wait times between vaccine registration and administration, and how has this changed over the past month?</li>\n",
    "        <li>What percentage of vaccines administered were first doses versus booster doses across different socioeconomic groups?</li>\n",
    "    </ul>\n",
    "    <h4><strong>3. Diagnostic:</strong></h4>\n",
    "    <ul>\n",
    "        <li>What caused regional differences in vaccine hesitancy despite similar awareness campaigns—cultural, social, or logistical factors?</li>\n",
    "        <li>Why did certain distribution hubs report higher vaccine spoilage rates compared to others, and how does storage infrastructure contribute?</li>\n",
    "    </ul>\n",
    "    <h4><strong>4. Predictive:</strong></h4>\n",
    "    <ul>\n",
    "        <li>Which urban areas are likely to see spikes in breakthrough infections based on current vaccination coverage and virus variants?</li>\n",
    "        <li>How will changes in public mobility patterns (holidays, events, travel) affect regional vaccine demand and infection rates in the next month?</li>\n",
    "    </ul>\n",
    "    <h4><strong>5. Prescriptive:</strong></h4>\n",
    "    <ul>\n",
    "        <li>If vaccine hesitancy rises in low-income areas, what targeted communication strategies and community partnerships should be implemented to maximize uptake?</li>\n",
    "        <li>Given predicted supply chain bottlenecks, how should vaccine shipment schedules be optimized to prevent wastage and ensure timely delivery to high-risk regions?</li>\n",
    "    </ul>\n",
    "</div>"
   ]
  },
  {
   "cell_type": "code",
   "execution_count": null,
   "id": "07a11c0a-c063-4a67-951a-d88eb54c0b36",
   "metadata": {},
   "outputs": [],
   "source": []
  }
 ],
 "metadata": {
  "kernelspec": {
   "display_name": "Python 3 (ipykernel)",
   "language": "python",
   "name": "python3"
  },
  "language_info": {
   "codemirror_mode": {
    "name": "ipython",
    "version": 3
   },
   "file_extension": ".py",
   "mimetype": "text/x-python",
   "name": "python",
   "nbconvert_exporter": "python",
   "pygments_lexer": "ipython3",
   "version": "3.11.1"
  }
 },
 "nbformat": 4,
 "nbformat_minor": 5
}